{
 "cells": [
  {
   "cell_type": "markdown",
   "metadata": {},
   "source": [
    "In the cell below, create a Python function that wraps your previous solution for the Bag of Words lab.\n",
    "\n",
    "Requirements:\n",
    "\n",
    "1. Your function should accept the following parameters:\n",
    "    * `docs` [REQUIRED] - array of document paths.\n",
    "    * `stop_words` [OPTIONAL] - array of stop words. The default value is an empty array.\n",
    "\n",
    "1. Your function should return a Python object that contains the following:\n",
    "    * `bag_of_words` - array of strings of normalized unique words in the corpus.\n",
    "    * `term_freq` - array of the term-frequency vectors."
   ]
  },
  {
   "cell_type": "code",
   "execution_count": 12,
   "metadata": {},
   "outputs": [
    {
     "data": {
      "text/plain": [
       "{'bag_of_words': ['ironhack',\n",
       "  'is',\n",
       "  'cool',\n",
       "  'i',\n",
       "  'love',\n",
       "  'am',\n",
       "  'a',\n",
       "  'student',\n",
       "  'at'],\n",
       " 'term_freq': [[1, 1, 1, 0, 0, 0, 0, 0, 0],\n",
       "  [1, 0, 0, 1, 1, 0, 0, 0, 0],\n",
       "  [1, 0, 0, 1, 0, 1, 1, 1, 1]]}"
      ]
     },
     "execution_count": 12,
     "metadata": {},
     "output_type": "execute_result"
    }
   ],
   "source": [
    "# Import required libraries\n",
    "# Define function\n",
    "import re\n",
    "import os\n",
    "def get_bow_from_docs(docs, stop_words=[]):\n",
    "    corpus = []\n",
    "    corpus = [f for f in os.listdir(docs) if f.endswith('.txt')]#aquí me da los paths de los documentos\n",
    "    corpus_content = []\n",
    "    for f in corpus:\n",
    "        st = open(os.path.join(docs, f))\n",
    "        corpus_content.append(st.read())\n",
    "    #Convierte corpus_content sin puntos y minisculas.\n",
    "    regex = re.compile('[^a-zA-Z]')\n",
    "    corpus_content_filtered = [regex.sub(' ', i) for i in corpus_content]\n",
    "    new_corpus = [p.lower() for p in corpus_content_filtered]\n",
    "    #Nos devolverá bag_of_words\n",
    "    bag_of_words = []\n",
    "    a = ([i.split() for i in new_corpus])\n",
    "    for x in a:\n",
    "        for y in x:\n",
    "            if y in bag_of_words:\n",
    "                continue\n",
    "            else:\n",
    "                bag_of_words.append(y)\n",
    "    #Nos devolverá ahora la frecuencia\n",
    "    term_freq = []\n",
    "    variable = []\n",
    "    for i in new_corpus:\n",
    "        variable = []  # se asigna una variable para guardarlos en una lista de listas\n",
    "        for y in bag_of_words:\n",
    "            variable.append(i.split().count(y))\n",
    "        term_freq.append(variable)\n",
    "    return {\n",
    "        \"bag_of_words\": bag_of_words,\n",
    "        \"term_freq\": term_freq\n",
    "    }\n",
    "\n",
    "get_bow_from_docs('C:/Users/952820/lab-string-operations/your-code')\n"
   ]
  },
  {
   "cell_type": "markdown",
   "metadata": {},
   "source": [
    "Test your function without stop words. You should see the output like below:\n",
    "\n",
    "```{'bag_of_words': ['ironhack', 'is', 'cool', 'i', 'love', 'am', 'a', 'student', 'at'], 'term_freq': [[1, 1, 1, 0, 0, 0, 0, 0, 0], [1, 0, 0, 1, 1, 0, 0, 0, 0], [1, 0, 0, 1, 0, 1, 1, 1, 1]]}```"
   ]
  },
  {
   "cell_type": "code",
   "execution_count": 19,
   "metadata": {},
   "outputs": [
    {
     "name": "stdout",
     "output_type": "stream",
     "text": [
      "{'bag_of_words': ['ironhack', 'is', 'cool', 'i', 'love', 'am', 'a', 'student', 'at'], 'term_freq': [[1, 1, 1, 0, 0, 0, 0, 0, 0], [1, 0, 0, 1, 1, 0, 0, 0, 0], [1, 0, 0, 1, 0, 1, 1, 1, 1]]}\n"
     ]
    }
   ],
   "source": [
    "# Define doc paths array\n",
    "docs = []\n",
    "\n",
    "# Obtain BoW from your function\n",
    "bow = get_bow_from_docs('C:/Users/952820/lab-string-operations/your-code')\n",
    "\n",
    "# Print BoW\n",
    "print(bow)"
   ]
  },
  {
   "cell_type": "markdown",
   "metadata": {},
   "source": [
    "If your attempt above is successful, nice work done!\n",
    "\n",
    "Now test your function again with the stop words. In the previous lab we defined the stop words in a large array. In this lab, we'll import the stop words from Scikit-Learn."
   ]
  },
  {
   "cell_type": "code",
   "execution_count": 13,
   "metadata": {},
   "outputs": [
    {
     "name": "stdout",
     "output_type": "stream",
     "text": [
      "frozenset({'for', 'yet', 'fifty', 'could', 'since', 'now', 'been', 'those', 'be', 'indeed', 'during', 'perhaps', 'therein', 'ie', 'each', 'either', 'whereafter', 'done', 'namely', 'was', 'at', 'seem', 'nowhere', 'next', 'twelve', 'sometime', 'being', 'interest', 'see', 'toward', 'anyway', 'amount', 'too', 'she', 'of', 'your', 'above', 'against', 'few', 'nor', 'due', 'already', 'hereby', 'on', 'take', 'after', 'whenever', 'via', 'thick', 'it', 'anyone', 'might', 'seemed', 'whether', 'de', 'couldnt', 'many', 'often', 'top', 'their', 'below', 'one', 'empty', 'someone', 'thereby', 'ten', 'hundred', 'made', 'everyone', 'before', 'get', 'inc', 'always', 'much', 'he', 'they', 'eleven', 'i', 'not', 'somewhere', 'twenty', 'still', 'which', 'me', 'keep', 'were', 'her', 'same', 'behind', 'thru', 'other', 'across', 'whence', 'find', 'forty', 'moreover', 'move', 'as', 'besides', 'by', 'sixty', 'together', 'side', 'none', 'until', 'had', 'the', 'its', 'you', 'upon', 'cant', 'myself', 'became', 'whither', 'who', 'un', 'herein', 'or', 'further', 'somehow', 'there', 'found', 'something', 'anywhere', 'themselves', 'front', 'put', 'beyond', 'if', 'because', 'another', 'into', 'every', 'here', 'becomes', 'please', 'meanwhile', 'wherever', 'some', 'my', 'last', 'least', 'nothing', 'detail', 'latter', 'six', 'nobody', 'also', 'otherwise', 'formerly', 'itself', 'full', 'is', 'that', 'whereas', 'towards', 'us', 'go', 'with', 'third', 'hereupon', 'in', 'our', 'yourself', 'call', 're', 'very', 'around', 'cannot', 'bill', 'again', 'give', 'hence', 'whatever', 'fifteen', 'most', 'how', 'them', 'must', 'to', 'without', 'latterly', 'sincere', 'what', 'neither', 'beforehand', 'therefore', 'three', 'over', 'ours', 'eight', 'beside', 'whereupon', 'such', 'however', 'him', 'a', 'thereupon', 'herself', 'seeming', 'five', 'except', 'sometimes', 'mostly', 'even', 'why', 'mill', 'elsewhere', 'ever', 'no', 'so', 'two', 'under', 'can', 'both', 'nine', 'onto', 'are', 'hereafter', 'will', 'former', 'among', 'anyhow', 'hers', 'am', 'back', 'never', 'become', 'describe', 'seems', 'cry', 'several', 'has', 'whom', 'less', 'thin', 'else', 'should', 'everything', 'and', 'thus', 'within', 'afterwards', 'any', 'thence', 'everywhere', 'whereby', 'fire', 'an', 'part', 'wherein', 'four', 'amongst', 'alone', 'co', 'whole', 'this', 'than', 'out', 'once', 'name', 'well', 'noone', 'these', 'con', 'yourselves', 'serious', 'system', 'but', 'anything', 'bottom', 'others', 'when', 'do', 'throughout', 'would', 'himself', 'all', 'ourselves', 'more', 'whoever', 'thereafter', 'only', 'while', 'up', 'about', 'between', 'rather', 'eg', 'may', 'enough', 'from', 'hasnt', 'ltd', 'through', 'although', 'own', 'we', 'amoungst', 'whose', 'first', 'where', 'almost', 'along', 'down', 'his', 'per', 'off', 'mine', 'nevertheless', 'have', 'though', 'show', 'yours', 'etc', 'fill', 'becoming', 'then'})\n"
     ]
    }
   ],
   "source": [
    "from sklearn.feature_extraction import stop_words\n",
    "print(stop_words.ENGLISH_STOP_WORDS)"
   ]
  },
  {
   "cell_type": "markdown",
   "metadata": {},
   "source": [
    "You should have seen a large list of words that looks like:\n",
    "\n",
    "```frozenset({'across', 'mine', 'cannot', ...})```\n",
    "\n",
    "`frozenset` is a type of Python object that is immutable. In this lab you can use it just like an array without conversion."
   ]
  },
  {
   "cell_type": "markdown",
   "metadata": {},
   "source": [
    "Next, test your function with supplying `stop_words.ENGLISH_STOP_WORDS` as the second parameter."
   ]
  },
  {
   "cell_type": "code",
   "execution_count": 27,
   "metadata": {},
   "outputs": [
    {
     "data": {
      "text/plain": [
       "{'bag_of_words': ['ironhack', 'cool', 'love', 'student'],\n",
       " 'term_freq': [[1, 1, 0, 0], [1, 0, 1, 0], [1, 0, 0, 1]]}"
      ]
     },
     "execution_count": 27,
     "metadata": {},
     "output_type": "execute_result"
    }
   ],
   "source": [
    "#bow = get_bow_from_docs(bow, stop_words.ENGLISH_STOP_WORDS)\n",
    "#print(bow)\n",
    "import re\n",
    "import os\n",
    "from sklearn.feature_extraction import stop_words\n",
    "def get_bow_from_docs(docs,stop_words=[]):\n",
    "    corpus = []\n",
    "    corpus = [f for f in os.listdir(docs) if f.endswith('.txt')]#aquí me da los paths de los documentos\n",
    "    corpus_content = []\n",
    "    for f in corpus:\n",
    "        st = open(os.path.join(docs, f))\n",
    "        corpus_content.append(st.read())\n",
    "    #Convierte corpus_content sin puntos y minisculas.\n",
    "    regex = re.compile('[^a-zA-Z]')\n",
    "    corpus_content_filtered = [regex.sub(' ', i) for i in corpus_content]\n",
    "    new_corpus = [p.lower() for p in corpus_content_filtered]\n",
    "    #Nos devolverá bag_of_words\n",
    "    bag_of_words = []\n",
    "    a = ([i.split() for i in new_corpus])\n",
    "    for x in a:\n",
    "        for y in x:\n",
    "            if y in bag_of_words:\n",
    "                continue\n",
    "            else:\n",
    "                if y in stop_words:\n",
    "                    continue\n",
    "                else:\n",
    "                    bag_of_words.append(y)\n",
    "    #Nos devolverá ahora la frecuencia\n",
    "    term_freq = []\n",
    "    variable = []\n",
    "    for i in new_corpus:\n",
    "        variable = []  # se asigna una variable para guardarlos en una lista de listas\n",
    "        for y in bag_of_words:\n",
    "            variable.append(i.split().count(y))\n",
    "        term_freq.append(variable)\n",
    "    return {\n",
    "        \"bag_of_words\": bag_of_words,\n",
    "        \"term_freq\": term_freq\n",
    "    }\n",
    "\n",
    "get_bow_from_docs('C:/Users/952820/lab-string-operations/your-code',stop_words.ENGLISH_STOP_WORDS)\n"
   ]
  },
  {
   "cell_type": "markdown",
   "metadata": {},
   "source": [
    "You should have seen:\n",
    "\n",
    "```{'bag_of_words': ['ironhack', 'cool', 'love', 'student'], 'term_freq': [[1, 1, 0, 0], [1, 0, 1, 0], [1, 0, 0, 1]]}```"
   ]
  },
  {
   "cell_type": "code",
   "execution_count": null,
   "metadata": {},
   "outputs": [],
   "source": []
  }
 ],
 "metadata": {
  "kernelspec": {
   "display_name": "Python 3",
   "language": "python",
   "name": "python3"
  },
  "language_info": {
   "codemirror_mode": {
    "name": "ipython",
    "version": 3
   },
   "file_extension": ".py",
   "mimetype": "text/x-python",
   "name": "python",
   "nbconvert_exporter": "python",
   "pygments_lexer": "ipython3",
   "version": "3.7.4"
  }
 },
 "nbformat": 4,
 "nbformat_minor": 2
}
