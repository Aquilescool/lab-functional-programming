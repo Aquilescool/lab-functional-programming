{
 "cells": [
  {
   "cell_type": "markdown",
   "metadata": {},
   "source": [
    "Now we want to enhance the `get_bow_from_docs` function so that it will work with HTML webpages. In HTML, there are a lot of messy codes such as HTML tags, Javascripts, [unicodes](https://www.w3schools.com/charsets/ref_utf_misc_symbols.asp) that will mess up your bag of words. We need to clean up those junk before generating BoW.\n",
    "\n",
    "Next, what you will do is to define several new functions each of which is specialized to clean up the HTML codes in one aspect. For instance, you can have a `strip_html_tags` function to remove all HTML tags, a `remove_punctuation` function to remove all punctuation, a `to_lower_case` function to convert string to lowercase, and a `remove_unicode` function to remove all unicodes.\n",
    "\n",
    "Then in your `get_bow_from_doc` function, you will call each of those functions you created to clean up the HTML before you generate the corpus.\n",
    "\n",
    "Note: Please use Python string operations and regular expression only in this lab. Do not use extra libraries such as `beautifulsoup` because otherwise you loose the purpose of practicing."
   ]
  },
  {
   "cell_type": "code",
   "execution_count": 45,
   "metadata": {},
   "outputs": [
    {
     "ename": "SyntaxError",
     "evalue": "invalid syntax (<ipython-input-45-039289b84a11>, line 13)",
     "output_type": "error",
     "traceback": [
      "\u001b[1;36m  File \u001b[1;32m\"<ipython-input-45-039289b84a11>\"\u001b[1;36m, line \u001b[1;32m13\u001b[0m\n\u001b[1;33m    def remove_unicode(text)\u001b[0m\n\u001b[1;37m                            ^\u001b[0m\n\u001b[1;31mSyntaxError\u001b[0m\u001b[1;31m:\u001b[0m invalid syntax\n"
     ]
    }
   ],
   "source": [
    "# Define your string handling functions below\n",
    "# Minimal 3 functions\n",
    "def remove_html_tags(text):\n",
    "    import re\n",
    "    clean = re.compile('<.*?>')\n",
    "    return re.sub(clean, '', text)\n",
    "\n",
    "def remove_punctuation_lower(text):\n",
    "    regex = re.compile('[^a-zA-Z]')\n",
    "    corpus_content_filtered = [regex.sub(' ', i) for i in text]\n",
    "    new_corpus = [p.lower() for p in corpus_content_filtered]\n",
    "\n",
    "def remove_unicode(text)\n",
    "    newString = (text.encode('ascii', 'ignore')).decode(\"utf-8\") \n"
   ]
  },
  {
   "cell_type": "markdown",
   "metadata": {},
   "source": [
    "Next, paste your previously written `get_bow_from_docs` function below. Call your functions above at the appropriate place."
   ]
  },
  {
   "cell_type": "code",
   "execution_count": 82,
   "metadata": {},
   "outputs": [
    {
     "name": "stdout",
     "output_type": "stream",
     "text": [
      "{'bag_of_words': ['www.coursereport.com_ironhack.html', 'en.wikipedia.org_Data_analysis.html', 'www.lipsum.com.html'], 'term_freq': [[1], [0], [0], [1, 0], [0, 1], [0, 0], [1, 0, 0], [0, 1, 0], [0, 0, 1]]}\n"
     ]
    }
   ],
   "source": [
    "import re\n",
    "from sklearn.feature_extraction import stop_words\n",
    "import os\n",
    "def remove_html_tags(corpus_content):\n",
    "    clean = re.compile('<.*?>')\n",
    "    corpus_content_html=re.sub(clean, '', corpus_content)\n",
    "    return corpus_content_html\n",
    "\n",
    "def remove_punctuation_lower(corpus_content):\n",
    "    regex = re.compile('[^a-zA-Z]')\n",
    "    corpus_content_filtered = regex.sub(' ', corpus_content).lower()\n",
    "    return corpus_content_filtered\n",
    "    \n",
    "def remove_unicode(new_corpus):\n",
    "    new_corpus2 = (new_corpus.encode('ascii', 'ignore')).decode(\"utf-8\") \n",
    "    return new_corpus2\n",
    "        \n",
    "def get_bow_from_docs(docs, stop_words=[]):\n",
    "    # In the function, first define the variables you will use such as `corpus`, `bag_of_words`, and `term_freq`.\n",
    "    corpus = []\n",
    "    bag_of_words = []\n",
    "    term_freq = []\n",
    "   \n",
    "    corpus_content=[remove_html_tags(i) for i in docs]\n",
    "    corpus_content=[remove_punctuation_lower(i) for i in docs]\n",
    "    corpus_content=[remove_unicode(i) for i in docs]\n",
    "    # write your codes here\n",
    "    a = ([i.split() for i in corpus_content])\n",
    "    for x in a:\n",
    "        for y in x:\n",
    "            if y in bag_of_words:\n",
    "                continue\n",
    "            else:\n",
    "                if y in stop_words:\n",
    "                    continue\n",
    "                else:\n",
    "                    bag_of_words.append(y)\n",
    "        for i in corpus_content:\n",
    "            variable = []  # se asigna una variable para guardarlos en una lista de listas\n",
    "            for y in bag_of_words:\n",
    "                variable.append(i.split().count(y))\n",
    "            term_freq.append(variable)\n",
    "    return {\n",
    "        \"bag_of_words\": bag_of_words,\n",
    "        \"term_freq\": term_freq\n",
    "    }\n",
    "\n",
    "bow = get_bow_from_docs([\n",
    "        'www.coursereport.com_ironhack.html',\n",
    "        'en.wikipedia.org_Data_analysis.html',\n",
    "        'www.lipsum.com.html'\n",
    "    ],\n",
    "    stop_words.ENGLISH_STOP_WORDS\n",
    ")\n",
    "\n",
    "print(bow)\n",
    "    \n",
    "\n",
    "    "
   ]
  },
  {
   "cell_type": "markdown",
   "metadata": {},
   "source": [
    "Next, read the content from the three HTML webpages in the `your-codes` directory to test your function."
   ]
  },
  {
   "cell_type": "code",
   "execution_count": null,
   "metadata": {},
   "outputs": [],
   "source": [
    "import re\n",
    "from sklearn.feature_extraction import stop_words\n",
    "import os\n",
    "def remove_html_tags(corpus_content):\n",
    "    clean = re.compile('<.*?>')\n",
    "    corpus_content_html=re.sub(clean, '', corpus_content)\n",
    "    return corpus_content_html\n",
    "\n",
    "def remove_punctuation_lower(corpus_content):\n",
    "    regex = re.compile('[^a-zA-Z]')\n",
    "    corpus_content_filtered = regex.sub(' ', corpus_content).lower()\n",
    "    return corpus_content_filtered\n",
    "    \n",
    "def remove_unicode(new_corpus):\n",
    "    new_corpus2 = (new_corpus.encode('ascii', 'ignore')).decode(\"utf-8\") \n",
    "    return new_corpus2\n",
    "        \n",
    "def get_bow_from_docs(docs, stop_words=[]):\n",
    "    # In the function, first define the variables you will use such as `corpus`, `bag_of_words`, and `term_freq`.\n",
    "    corpus = []\n",
    "    bag_of_words = []\n",
    "    term_freq = []\n",
    "   \n",
    "    corpus_content=[remove_html_tags(i) for i in docs]\n",
    "    corpus_content=[remove_punctuation_lower(i) for i in docs]\n",
    "    corpus_content=[remove_unicode(i) for i in docs]\n",
    "    # write your codes here\n",
    "    a = ([i.split() for i in corpus_content])\n",
    "    for x in a:\n",
    "        for y in x:\n",
    "            if y in bag_of_words:\n",
    "                continue\n",
    "            else:\n",
    "                if y in stop_words:\n",
    "                    continue\n",
    "                else:\n",
    "                    bag_of_words.append(y)\n",
    "        for i in corpus_content:\n",
    "            variable = []  # se asigna una variable para guardarlos en una lista de listas\n",
    "            for y in bag_of_words:\n",
    "                variable.append(i.split().count(y))\n",
    "            term_freq.append(variable)\n",
    "    return {\n",
    "        \"bag_of_words\": bag_of_words,\n",
    "        \"term_freq\": term_freq\n",
    "    }\n",
    "\n",
    "bow = get_bow_from_docs([\n",
    "        'www.coursereport.com_ironhack.html',\n",
    "        'en.wikipedia.org_Data_analysis.html',\n",
    "        'www.lipsum.com.html'\n",
    "    ],\n",
    "    stop_words.ENGLISH_STOP_WORDS\n",
    ")\n",
    "\n",
    "print(bow)\n",
    "    \n"
   ]
  },
  {
   "cell_type": "markdown",
   "metadata": {},
   "source": [
    "Do you see any problem in the output? How do you improve the output?\n",
    "\n",
    "A good way to improve your codes is to look into the HTML data sources and try to understand where the messy output came from. A good data analyst always learns about the data in depth in order to perform the job well.\n",
    "\n",
    "Spend 20-30 minutes to improve your functions or until you feel you are good at string operations. This lab is just a practice so you don't need to stress yourself out. If you feel you've practiced enough you can stop and move on the next challenge question."
   ]
  },
  {
   "cell_type": "code",
   "execution_count": null,
   "metadata": {},
   "outputs": [],
   "source": []
  },
  {
   "cell_type": "code",
   "execution_count": null,
   "metadata": {},
   "outputs": [],
   "source": []
  },
  {
   "cell_type": "code",
   "execution_count": null,
   "metadata": {},
   "outputs": [],
   "source": []
  }
 ],
 "metadata": {
  "kernelspec": {
   "display_name": "Python 3",
   "language": "python",
   "name": "python3"
  },
  "language_info": {
   "codemirror_mode": {
    "name": "ipython",
    "version": 3
   },
   "file_extension": ".py",
   "mimetype": "text/x-python",
   "name": "python",
   "nbconvert_exporter": "python",
   "pygments_lexer": "ipython3",
   "version": "3.7.4"
  }
 },
 "nbformat": 4,
 "nbformat_minor": 2
}
